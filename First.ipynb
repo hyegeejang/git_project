{
 "cells": [
  {
   "cell_type": "code",
   "execution_count": null,
   "id": "0fbda2f9-4b83-4714-a6e6-cbccc53bfed7",
   "metadata": {},
   "outputs": [],
   "source": [
    "print ('Member1이 작업함')"
   ]
  }
 ],
 "metadata": {
  "kernelspec": {
   "display_name": "Python 3 (ipykernel)",
   "language": "python",
   "name": "python3"
  },
  "language_info": {
   "codemirror_mode": {
    "name": "ipython",
    "version": 3
   },
   "file_extension": ".py",
   "mimetype": "text/x-python",
   "name": "python",
   "nbconvert_exporter": "python",
   "pygments_lexer": "ipython3",
   "version": "3.11.5"
  }
 },
 "nbformat": 4,
 "nbformat_minor": 5
}
