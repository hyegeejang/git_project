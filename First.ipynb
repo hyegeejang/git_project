{
 "cells": [
  {
   "cell_type": "code",
   "execution_count": 1,
   "id": "0fbda2f9-4b83-4714-a6e6-cbccc53bfed7",
   "metadata": {},
   "outputs": [
    {
     "name": "stdout",
     "output_type": "stream",
     "text": [
      "Member1이 작업함\n"
     ]
    }
   ],
   "source": [
    "print ('Member1이 작업함')"
   ]
  },
  {
   "cell_type": "code",
   "execution_count": 2,
   "id": "3493df6f-6076-4ce8-9451-c317a06f599f",
   "metadata": {},
   "outputs": [
    {
     "name": "stdout",
     "output_type": "stream",
     "text": [
      "Member1이 또 작업함\n"
     ]
    }
   ],
   "source": [
    "print ('Member1이 또 작업함')"
   ]
  },
  {
   "cell_type": "code",
   "execution_count": null,
   "id": "aed7150c-f34f-4f62-8ab9-8915977d58a5",
   "metadata": {},
   "outputs": [],
   "source": []
  },
  {
   "cell_type": "code",
   "execution_count": null,
   "id": "8e05ad8e-d828-401f-ab08-3b6b13723784",
   "metadata": {},
   "outputs": [],
   "source": []
  }
 ],
 "metadata": {
  "kernelspec": {
   "display_name": "Python 3 (ipykernel)",
   "language": "python",
   "name": "python3"
  },
  "language_info": {
   "codemirror_mode": {
    "name": "ipython",
    "version": 3
   },
   "file_extension": ".py",
   "mimetype": "text/x-python",
   "name": "python",
   "nbconvert_exporter": "python",
   "pygments_lexer": "ipython3",
   "version": "3.11.5"
  }
 },
 "nbformat": 4,
 "nbformat_minor": 5
}
